{
  "cells": [
    {
      "cell_type": "code",
      "execution_count": null,
      "metadata": {},
      "outputs": [],
      "source": [
        "!wget https://s3-api.us-geo.objectstorage.softlayer.net/cf-courses-data/CognitiveClass/DL0321EN/data/images/Positive_tensors.zip "
      ]
    },
    {
      "cell_type": "code",
      "execution_count": null,
      "metadata": {},
      "outputs": [],
      "source": [
        "!unzip -q Positive_tensors.zip"
      ]
    },
    {
      "cell_type": "code",
      "execution_count": null,
      "metadata": {},
      "outputs": [],
      "source": [
        "!wget https://s3-api.us-geo.objectstorage.softlayer.net/cf-courses-data/CognitiveClass/DL0321EN/data/images/Negative_tensors.zip"
      ]
    },
    {
      "cell_type": "code",
      "execution_count": null,
      "metadata": {},
      "outputs": [],
      "source": [
        "!unzip -q Negative_tensors.zip"
      ]
    },
    {
      "cell_type": "code",
      "execution_count": null,
      "metadata": {},
      "outputs": [],
      "source": [
        "!pip install torchvision"
      ]
    },
    {
      "cell_type": "code",
      "execution_count": null,
      "metadata": {},
      "outputs": [],
      "source": [
        "import torchvision.models as models\n",
        "from PIL import Image\n",
        "import pandas as pd\n",
        "import torch\n",
        "import os\n",
        "import time\n",
        "from torchvision import transforms\n",
        "import torch.nn as nn\n",
        "import matplotlib.pyplot as plt\n",
        "from torch.utils.data import Dataset, DataLoader\n",
        "import requests\n",
        "import zipfile\n",
        "\n",
        "torch.manual_seed(0)"
      ]
    },
    {
      "cell_type": "code",
      "execution_count": null,
      "metadata": {},
      "outputs": [],
      "source": [
        "from torch.utils.data import Dataset, DataLoader\n",
        "import requests\n",
        "import zipfile\n",
        "\n",
        "torch.manual_seed(0)"
      ]
    },
    {
      "cell_type": "code",
      "execution_count": null,
      "metadata": {},
      "outputs": [],
      "source": [
        "# Define Dataset Class\n",
        "class Dataset(Dataset):\n",
        "    def __init__(self, transform=None, train=True):\n",
        "        directory=\"/home/wsuser/work\"\n",
        "        positive = \"Positive_tensors\"\n",
        "        negative = 'Negative_tensors'\n",
        "\n",
        "        positive_file_path = os.path.join(directory, positive)\n",
        "        negative_file_path = os.path.join(directory, negative)\n",
        "        positive_files = [os.path.join(positive_file_path, file) for file in os.listdir(positive_file_path) if file.endswith(\".pt\")]\n",
        "        negative_files = [os.path.join(negative_file_path, file) for file in os.listdir(negative_file_path) if file.endswith(\".pt\")]\n",
        "        \n",
        "        number_of_samples = len(positive_files) + len(negative_files)\n",
        "        self.all_files = [None] * number_of_samples\n",
        "        self.all_files[::2] = positive_files\n",
        "        self.all_files[1::2] = negative_files\n",
        "        \n",
        "        self.transform = transform\n",
        "        self.Y = torch.zeros([number_of_samples]).type(torch.LongTensor)\n",
        "        self.Y[::2] = 1\n",
        "        self.Y[1::2] = 0\n",
        "        \n",
        "        if train:\n",
        "            self.all_files = self.all_files[0:30000]\n",
        "            self.Y = self.Y[0:30000]\n",
        "            self.len = len(self.all_files)\n",
        "        else:\n",
        "            self.all_files = self.all_files[30000:]\n",
        "            self.Y = self.Y[30000:]\n",
        "            self.len = len(self.all_files)\n",
        "\n",
        "    def __len__(self):\n",
        "        return self.len\n",
        "    \n",
        "    def __getitem__(self, idx):\n",
        "        image = torch.load(self.all_files[idx])\n",
        "        y = self.Y[idx]\n",
        "        if self.transform:\n",
        "            image = self.transform(image)\n",
        "        return image, y"
      ]
    },
    {
      "cell_type": "code",
      "execution_count": null,
      "metadata": {},
      "outputs": [],
      "source": [
        "# Initialize Train and Validation Dataset\n",
        "train_dataset = Dataset(train=True)\n",
        "validation_dataset = Dataset(train=False)"
      ]
    },
    {
      "cell_type": "code",
      "execution_count": null,
      "metadata": {},
      "outputs": [],
      "source": [
        "# Load and Modify Pre-Trained Model\n",
        "print(\"[INFO] Loading pre-trained ResNet18...\")\n",
        "model = models.resnet18(pretrained=True)\n",
        "\n",
        "# Set parameters to non-trainable\n",
        "for param in model.parameters():\n",
        "    param.requires_grad = False\n",
        "\n",
        "# Modify the output layer\n",
        "model.fc = nn.Linear(512, 2)  # As we have two classes: positive and negative\n",
        "print(\"[INFO] Modified the last layer for binary classification.\")\n",
        "print(\"Modified ResNet18 Model's Final Layer:\")\n",
        "print(model.fc)"
      ]
    },
    {
      "cell_type": "code",
      "execution_count": null,
      "metadata": {},
      "outputs": [],
      "source": [
        "# Setup Loss Function, DataLoaders, and Optimizer\n",
        "criterion = nn.CrossEntropyLoss()\n",
        "train_loader = DataLoader(dataset=train_dataset, batch_size=100)\n",
        "validation_loader = DataLoader(dataset=validation_dataset, batch_size=100)\n",
        "optimizer = torch.optim.Adam([parameters for parameters in model.parameters() if parameters.requires_grad], lr=0.001)"
      ]
    },
    {
      "cell_type": "code",
      "execution_count": null,
      "metadata": {},
      "outputs": [],
      "source": [
        "# Training loop\n",
        "n_epochs = 2\n",
        "loss_list = []\n",
        "accuracy_list = []\n",
        "N_test = len(validation_dataset)\n",
        "start_time = time.time()\n",
        "\n",
        "for epoch in range(n_epochs):\n",
        "    for x, y in train_loader:\n",
        "        model.train()\n",
        "        optimizer.zero_grad()\n",
        "        z = model(x)\n",
        "        loss = criterion(z, y)\n",
        "        loss.backward()\n",
        "        optimizer.step()\n",
        "        loss_list.append(loss.data)\n",
        "    \n",
        "    correct = 0\n",
        "    for x_test, y_test in validation_loader:\n",
        "        model.eval()\n",
        "        z = model(x_test)\n",
        "        _, yhat = torch.max(z.data, 1)\n",
        "        correct += (yhat == y_test).sum().item()\n",
        "    accuracy = correct / N_test"
      ]
    },
    {
      "cell_type": "code",
      "execution_count": null,
      "metadata": {},
      "outputs": [],
      "source": [
        "# Plotting Results\n",
        "print(\"Accuracy: \", accuracy)\n",
        "plt.plot(loss_list)\n",
        "plt.xlabel(\"iteration\")\n",
        "plt.ylabel(\"loss\")\n",
        "plt.show()"
      ]
    },
    {
      "cell_type": "code",
      "execution_count": null,
      "metadata": {},
      "outputs": [],
      "source": [
        "# Displaying Misclassified Samples\n",
        "misclassified_samples = []\n",
        "for x, y in validation_loader:\n",
        "    z = model(x)\n",
        "    _, yhat = torch.max(z.data, 1)\n",
        "    misclassified_indices = torch.where(yhat != y)[0]\n",
        "    misclassified_samples += [(x[i], yhat[i], y[i]) for i in misclassified_indices]\n",
        "\n",
        "for index, (img, pred, actual) in enumerate(misclassified_samples[:4]):\n",
        "    print(f\"Sample {index + 1} - Predicted: {pred}, Actual: {actual}\")\n",
        "    plt.imshow(img[0], cmap='gray')\n",
        "    plt.show()"
      ]
    }
  ],
  "metadata": {
    "kernelspec": {
      "display_name": "Python (Pyodide)",
      "language": "python",
      "name": "python"
    },
    "language_info": {
      "codemirror_mode": {
        "name": "python",
        "version": 3
      },
      "file_extension": ".py",
      "mimetype": "text/x-python",
      "name": "python",
      "nbconvert_exporter": "python",
      "pygments_lexer": "ipython3",
      "version": "3.8"
    }
  },
  "nbformat": 4,
  "nbformat_minor": 4
}
